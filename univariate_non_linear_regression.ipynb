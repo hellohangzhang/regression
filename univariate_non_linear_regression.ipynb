{
 "cells": [
  {
   "cell_type": "code",
   "execution_count": 21,
   "metadata": {},
   "outputs": [],
   "source": [
    "import numpy as np\n",
    "import pandas as pd\n",
    "import matplotlib.pyplot as plt\n",
    "from sklearn.linear_model import LinearRegression\n",
    "from sklearn.preprocessing import PolynomialFeatures\n",
    "import statsmodels.api as sm"
   ]
  },
  {
   "cell_type": "code",
   "execution_count": 22,
   "metadata": {},
   "outputs": [],
   "source": [
    "X_train = [[6], [8], [10], [14], [18]]\n",
    "y_train = [[7], [9], [13], [17.5], [18]]\n",
    "X_test = [[6], [8], [11], [16]]\n",
    "y_test = [[8], [12], [15], [18]]"
   ]
  },
  {
   "cell_type": "code",
   "execution_count": 23,
   "metadata": {},
   "outputs": [
    {
     "data": {
      "image/png": "[encoded data removed]",
      "text/plain": [
       "<Figure size 432x288 with 1 Axes>"
      ]
     },
     "metadata": {
      "needs_background": "light"
     },
     "output_type": "display_data"
    },
    {
     "name": "stdout",
     "output_type": "stream",
     "text": [
      "coefficient of determination:0.91\n"
     ]
    }
   ],
   "source": [
    "# 简单线性回归\n",
    "model = LinearRegression()\n",
    "model.fit(X_train, y_train)\n",
    "xx = np.linspace(0, 26, 100)\n",
    "yy = model.predict(xx.reshape(-1, 1))\n",
    "plt.scatter(x=X_train, y=y_train, color='k')\n",
    "plt.plot(xx, yy, '-g')\n",
    "plt.show()\n",
    "score = model.score(X_train,y_train)\n",
    "print('coefficient of determination:{:.2f}'.format(score))"
   ]
  },
  {
   "cell_type": "code",
   "execution_count": 24,
   "metadata": {},
   "outputs": [
    {
     "data": {
      "image/png": "[encoded data removed]",
      "text/plain": [
       "<Figure size 432x288 with 1 Axes>"
      ]
     },
     "metadata": {
      "needs_background": "light"
     },
     "output_type": "display_data"
    },
    {
     "name": "stdout",
     "output_type": "stream",
     "text": [
      "coefficient of determination:0.98\n"
     ]
    }
   ],
   "source": [
    "# 多项式回归\n",
    "quadratic_featurizer = PolynomialFeatures(degree=2)\n",
    "X_train_quadratic = quadratic_featurizer.fit_transform(X_train)\n",
    "X_test_quadratic = quadratic_featurizer.fit_transform(X_test)\n",
    "model2 = LinearRegression()\n",
    "model2.fit(X_train_quadratic, y_train)\n",
    "xx2 = quadratic_featurizer.fit_transform(xx.reshape(-1,1))\n",
    "yy2 = model2.predict(xx2)\n",
    "plt.plot(xx, yy2, '-r')\n",
    "plt.scatter(x=X_train, y=y_train, color='k')\n",
    "plt.show()\n",
    "score = model2.score(X_train_quadratic,y_train)\n",
    "print('coefficient of determination:{:.2f}'.format(score))"
   ]
  },
  {
   "cell_type": "code",
   "execution_count": 25,
   "metadata": {},
   "outputs": [
    {
     "name": "stdout",
     "output_type": "stream",
     "text": [
      "                            OLS Regression Results                            \n",
      "==============================================================================\n",
      "Dep. Variable:                      y   R-squared:                       0.982\n",
      "Model:                            OLS   Adj. R-squared:                  0.963\n",
      "Method:                 Least Squares   F-statistic:                     53.47\n",
      "Date:                Sat, 21 Mar 2020   Prob (F-statistic):             0.0184\n",
      "Time:                        20:23:53   Log-Likelihood:                -4.5188\n",
      "No. Observations:                   5   AIC:                             15.04\n",
      "Df Residuals:                       2   BIC:                             13.87\n",
      "Df Model:                           2                                         \n",
      "Covariance Type:            nonrobust                                         \n",
      "==============================================================================\n",
      "                 coef    std err          t      P>|t|      [0.025      0.975]\n",
      "------------------------------------------------------------------------------\n",
      "const         -8.3977      3.892     -2.158      0.164     -25.142       8.346\n",
      "x1             2.9562      0.715      4.132      0.054      -0.122       6.034\n",
      "x2            -0.0820      0.029     -2.794      0.108      -0.208       0.044\n",
      "==============================================================================\n",
      "Omnibus:                          nan   Durbin-Watson:                   2.621\n",
      "Prob(Omnibus):                    nan   Jarque-Bera (JB):                0.460\n",
      "Skew:                          -0.549   Prob(JB):                        0.794\n",
      "Kurtosis:                       1.999   Cond. No.                     1.67e+03\n",
      "==============================================================================\n",
      "\n",
      "Warnings:\n",
      "[1] Standard Errors assume that the covariance matrix of the errors is correctly specified.\n",
      "[2] The condition number is large, 1.67e+03. This might indicate that there are\n",
      "strong multicollinearity or other numerical problems.\n"
     ]
    },
    {
     "name": "stderr",
     "output_type": "stream",
     "text": [
      "c:\\users\\yjh\\appdata\\local\\programs\\python\\python37-32\\lib\\site-packages\\statsmodels\\stats\\stattools.py:72: ValueWarning: omni_normtest is not valid with less than 8 observations; 5 samples were given.\n",
      "  \"samples were given.\" % int(n), ValueWarning)\n"
     ]
    }
   ],
   "source": [
    "X2 = sm.add_constant(X_train_quadratic)\n",
    "est = sm.OLS(y_train, X2)\n",
    "est2 = est.fit()\n",
    "print(est2.summary())"
   ]
  },
  {
   "cell_type": "code",
   "execution_count": 26,
   "metadata": {},
   "outputs": [
    {
     "name": "stdout",
     "output_type": "stream",
     "text": [
      "X_train:\n",
      " [[6], [8], [10], [14], [18]]\n",
      "X_train_quadratic:\n",
      " [[  1.   6.  36.]\n",
      " [  1.   8.  64.]\n",
      " [  1.  10. 100.]\n",
      " [  1.  14. 196.]\n",
      " [  1.  18. 324.]]\n",
      "X_test:\n",
      " [[6], [8], [11], [16]]\n",
      "X_test_quadratic:\n",
      " [[  1.   6.  36.]\n",
      " [  1.   8.  64.]\n",
      " [  1.  11. 121.]\n",
      " [  1.  16. 256.]]\n",
      "简单线性回归R2： 0.809726797707665\n",
      "二次回归R2： 0.8675443656345054\n"
     ]
    }
   ],
   "source": [
    "print('X_train:\\n', X_train)\n",
    "print('X_train_quadratic:\\n', X_train_quadratic)\n",
    "print('X_test:\\n', X_test)\n",
    "print('X_test_quadratic:\\n', X_test_quadratic)\n",
    "print('简单线性回归R2：', model.score(X_test, y_test))\n",
    "print('二次回归R2：', model2.score(X_test_quadratic, y_test));"
   ]
  },
  {
   "cell_type": "code",
   "execution_count": 27,
   "metadata": {
    "scrolled": true
   },
   "outputs": [
    {
     "data": {
      "image/png": "[encoded data removed]",
      "text/plain": [
       "<Figure size 432x288 with 1 Axes>"
      ]
     },
     "metadata": {
      "needs_background": "light"
     },
     "output_type": "display_data"
    },
    {
     "name": "stdout",
     "output_type": "stream",
     "text": [
      "coefficient of determination:0.95\n"
     ]
    }
   ],
   "source": [
    "# 反比例函数回归\n",
    "X_train_transformed = 1/np.array(X_train)\n",
    "model3 = LinearRegression()\n",
    "model3.fit(X_train_transformed, y_train)\n",
    "xx2 = 1/xx[1:]\n",
    "yy2 = model3.predict(xx2.reshape(-1,1))\n",
    "plt.plot(xx[1:], yy2, '-r')\n",
    "plt.scatter(x=X_train, y=y_train, color='k')\n",
    "plt.show()\n",
    "score = model3.score(X_train_transformed,y_train)\n",
    "print('coefficient of determination:{:.2f}'.format(score))"
   ]
  },
  {
   "cell_type": "code",
   "execution_count": 28,
   "metadata": {
    "scrolled": true
   },
   "outputs": [
    {
     "name": "stdout",
     "output_type": "stream",
     "text": [
      "                            OLS Regression Results                            \n",
      "==============================================================================\n",
      "Dep. Variable:                      y   R-squared:                       0.952\n",
      "Model:                            OLS   Adj. R-squared:                  0.935\n",
      "Method:                 Least Squares   F-statistic:                     58.98\n",
      "Date:                Sat, 21 Mar 2020   Prob (F-statistic):            0.00459\n",
      "Time:                        20:23:53   Log-Likelihood:                -6.9424\n",
      "No. Observations:                   5   AIC:                             17.88\n",
      "Df Residuals:                       3   BIC:                             17.10\n",
      "Df Model:                           1                                         \n",
      "Covariance Type:            nonrobust                                         \n",
      "==============================================================================\n",
      "                 coef    std err          t      P>|t|      [0.025      0.975]\n",
      "------------------------------------------------------------------------------\n",
      "const         24.2020      1.575     15.371      0.001      19.191      29.213\n",
      "x1          -108.9556     14.187     -7.680      0.005    -154.104     -63.807\n",
      "==============================================================================\n",
      "Omnibus:                          nan   Durbin-Watson:                   2.448\n",
      "Prob(Omnibus):                    nan   Jarque-Bera (JB):                0.382\n",
      "Skew:                          -0.407   Prob(JB):                        0.826\n",
      "Kurtosis:                       1.917   Cond. No.                         25.6\n",
      "==============================================================================\n",
      "\n",
      "Warnings:\n",
      "[1] Standard Errors assume that the covariance matrix of the errors is correctly specified.\n"
     ]
    },
    {
     "name": "stderr",
     "output_type": "stream",
     "text": [
      "c:\\users\\yjh\\appdata\\local\\programs\\python\\python37-32\\lib\\site-packages\\statsmodels\\stats\\stattools.py:72: ValueWarning: omni_normtest is not valid with less than 8 observations; 5 samples were given.\n",
      "  \"samples were given.\" % int(n), ValueWarning)\n"
     ]
    }
   ],
   "source": [
    "X2 = sm.add_constant(X_train_transformed)\n",
    "est = sm.OLS(y_train, X2)\n",
    "est2 = est.fit()\n",
    "print(est2.summary())"
   ]
  },
  {
   "cell_type": "markdown",
   "metadata": {},
   "source": [
    "对于非线性回归，首先观察散点的形状，设计一种函数取拟合。  \n",
    "如果是二次或者三次函数，直接用PolynomialFeatures方法进行转换。  \n",
    "如果是其他类型的函数，手动转换一下看看效果如何，例如反比例函数。"
   ]
  }
 ],
 "metadata": {
  "kernelspec": {
   "display_name": "Python 3",
   "language": "python",
   "name": "python3"
  },
  "language_info": {
   "codemirror_mode": {
    "name": "ipython",
    "version": 3
   },
   "file_extension": ".py",
   "mimetype": "text/x-python",
   "name": "python",
   "nbconvert_exporter": "python",
   "pygments_lexer": "ipython3",
   "version": "3.7.0"
  }
 },
 "nbformat": 4,
 "nbformat_minor": 2
}
